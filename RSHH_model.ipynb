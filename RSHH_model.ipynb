{
  "cells": [
    {
      "cell_type": "code",
      "execution_count": 14,
      "metadata": {
        "id": "BSZ5dO9v8VdE"
      },
      "outputs": [],
      "source": [
        "import brian2 as b2\n",
        "import matplotlib.pyplot as plt"
      ]
    },
    {
      "cell_type": "markdown",
      "metadata": {},
      "source": [
        "# Ferret Visual Cortex"
      ]
    },
    {
      "cell_type": "code",
      "execution_count": 2,
      "metadata": {
        "id": "5kzPOptnAo6U"
      },
      "outputs": [],
      "source": [
        "E_Na = 50 * b2.mV\n",
        "g_Na = 0.05 * b2.siemens/b2.cm**2\n",
        "g_Kd = 5e-3 * b2.siemens/b2.cm**2\n",
        "E_Kd = -90 * b2.mV\n",
        "E_K = -90 * b2.mV\n",
        "g_M = 7e-5 * b2.siemens/b2.cm**2\n",
        "tau_max = 4 * b2.second\n",
        "g_Leak = 1e-4 * b2.siemens/b2.cm**2\n",
        "E_Leak = -70 * b2.mV\n",
        "\n",
        "L = 96 * b2.umetre\n",
        "d = 96 * b2.umetre\n",
        "\n",
        "C_membrane = (0.29 * b2.nfarad) / (b2.pi * L * d)\n",
        "vt = - 56.2 * b2.mV\n",
        "\n",
        "eqs = \"\"\"\n",
        "  dvm/dt = (1 / C_membrane) * Im : volt\n",
        "  Im = I_Leak+I_Na+I_Kd+I_M+Iinj : amp/meter**2\n",
        "  I_Leak = g_Leak*(E_Leak-vm) : amp/meter**2\n",
        "  I_Na = g_Na*m**3*h*(E_Na-vm) : amp/meter**2\n",
        "  I_Kd = g_Kd*n**4*(E_Kd-vm) : amp/meter**2\n",
        "  I_M = g_M*p*(E_K-vm) : amp/meter**2\n",
        "  alpham = -0.32*(vm-vt-13*mV)/(exp(-(vm-vt-13*mV)/(4*mV))-1)/mV/ms : Hz\n",
        "  betam = (0.28*(vm-vt-40*mV)/(exp((vm-vt-40*mV)/(5*mV))-1))/mV/ms : Hz\n",
        "  alphah = 0.128*exp(-(vm-vt-17*mV)/(18*mV))/ms : Hz\n",
        "  betah = 4/(1+exp(-(vm-vt-40*mV)/(5*mV)))/ms : Hz\n",
        "  dm/dt = alpham*(1-m)-betam*m : 1\n",
        "  dh/dt = alphah*(1-h)-betah*h : 1\n",
        "  alphan = -0.032*(vm-vt-15*mV)/(exp(-(vm-vt-15*mV)/(5*mV))-1)/mV/ms : Hz\n",
        "  betan = (0.5*exp(-(vm-vt-10*mV)/(40*mV)))/ms : Hz\n",
        "  dn/dt = alphan*(1-n)-betan*n : 1\n",
        "  p_inf = 1/(1+exp(-(vm+35*mV)/(10*mV))) : 1\n",
        "  tau = tau_max/(3.3*exp((vm+35*mV)/(20*mV))+exp(-(vm+35*mV)/(20*mV))) : second\n",
        "  dp/dt = (p_inf-p)/tau : 1\n",
        "\"\"\""
      ]
    },
    {
      "cell_type": "markdown",
      "metadata": {},
      "source": [
        "# Rat Somatosensory Cortex Pyramidal"
      ]
    },
    {
      "cell_type": "code",
      "execution_count": 28,
      "metadata": {
        "id": "5kzPOptnAo6U"
      },
      "outputs": [],
      "source": [
        "E_Na = 50 * b2.mV\n",
        "g_Na = 0.056 * b2.siemens/b2.cm**2\n",
        "g_Kd = 6e-3 * b2.siemens/b2.cm**2\n",
        "E_Kd = -90 * b2.mV\n",
        "E_K = -90 * b2.mV\n",
        "g_M = 7.5e-5 * b2.siemens/b2.cm**2\n",
        "tau_max = 608 * b2.msecond\n",
        "g_Leak = 2.05e-5 * b2.siemens/b2.cm**2\n",
        "E_Leak = -70.3 * b2.mV\n",
        "\n",
        "L = 61.4 * b2.umetre\n",
        "d = 61.4 * b2.umetre\n",
        "\n",
        "C_membrane = (0.29 * b2.nfarad) / (b2.pi * L * d)\n",
        "vt = - 56.2 * b2.mV\n",
        "\n",
        "eqs = \"\"\"\n",
        "  dvm/dt = (1 / C_membrane) * Im : volt\n",
        "  Im = I_Leak+I_Na+I_Kd+I_M+Iinj : amp/meter**2\n",
        "  I_Leak = g_Leak*(E_Leak-vm) : amp/meter**2\n",
        "  I_Na = g_Na*m**3*h*(E_Na-vm) : amp/meter**2\n",
        "  I_Kd = g_Kd*n**4*(E_Kd-vm) : amp/meter**2\n",
        "  I_M = g_M*p*(E_K-vm) : amp/meter**2\n",
        "  alpham = -0.32*(vm-vt-13*mV)/(exp(-(vm-vt-13*mV)/(4*mV))-1)/mV/ms : Hz\n",
        "  betam = (0.28*(vm-vt-40*mV)/(exp((vm-vt-40*mV)/(5*mV))-1))/mV/ms : Hz\n",
        "  alphah = 0.128*exp(-(vm-vt-17*mV)/(18*mV))/ms : Hz\n",
        "  betah = 4/(1+exp(-(vm-vt-40*mV)/(5*mV)))/ms : Hz\n",
        "  dm/dt = alpham*(1-m)-betam*m : 1\n",
        "  dh/dt = alphah*(1-h)-betah*h : 1\n",
        "  alphan = -0.032*(vm-vt-15*mV)/(exp(-(vm-vt-15*mV)/(5*mV))-1)/mV/ms : Hz\n",
        "  betan = (0.5*exp(-(vm-vt-10*mV)/(40*mV)))/ms : Hz\n",
        "  dn/dt = alphan*(1-n)-betan*n : 1\n",
        "  p_inf = 1/(1+exp(-(vm+35*mV)/(10*mV))) : 1\n",
        "  tau = tau_max/(3.3*exp((vm+35*mV)/(20*mV))+exp(-(vm+35*mV)/(20*mV))) : second\n",
        "  dp/dt = (p_inf-p)/tau : 1\n",
        "\"\"\""
      ]
    },
    {
      "cell_type": "markdown",
      "metadata": {},
      "source": [
        "# Running"
      ]
    },
    {
      "cell_type": "code",
      "execution_count": 43,
      "metadata": {},
      "outputs": [
        {
          "data": {
            "text/plain": [
              "Text(0, 0.5, 'Voltage (mV)')"
            ]
          },
          "execution_count": 43,
          "metadata": {},
          "output_type": "execute_result"
        },
        {
          "data": {
            "image/png": "[encoded data removed]",
            "text/plain": [
              "<Figure size 640x480 with 1 Axes>"
            ]
          },
          "metadata": {},
          "output_type": "display_data"
        }
      ],
      "source": [
        "b2.start_scope()\n",
        "morpho = b2.Cylinder(length=L, diameter=d, n=1, type='axon')\n",
        "neuron = b2.SpatialNeuron(morphology=morpho, model=eqs,\n",
        "                          method=\"exponential_euler\")\n",
        "neuron.vm = -75*b2.mV\n",
        "\n",
        "M = b2.StateMonitor(neuron, 'vm', record=True)\n",
        "#M = b2.StateMonitor(neuron, ['I_Na', 'm', 'h'], record=True)\n",
        "#M = b2.StateMonitor(neuron, ['I_Kd', 'n'], record=True)\n",
        "#M = b2.StateMonitor(neuron, ['I_M', 'p', 'tau'], record=True)\n",
        "\n",
        "Iinj = 100*b2.nA/(b2.pi * L * d)  # current injection at one end\n",
        "b2.run(50*b2.ms)\n",
        "plt.plot(M.t/b2.ms, M.vm[0]/b2.mV, label='Voltage')\n",
        "plt.xlabel('Time (ms)')\n",
        "plt.ylabel('Voltage (mV)')\n",
        "\n",
        "#plt.plot(M.t/b2.ms, M.I_Na[0]/b2.amp/b2.metre**2, label='I_Na')\n",
        "#plt.plot(M.t/b2.ms, M.m[0], label='m')\n",
        "#plt.plot(M.t/b2.ms, M.h[0], label='h')\n",
        "#plt.xlabel('Time (ms)')\n",
        "#plt.ylabel('Current (A/m^2)')\n",
        "#plt.legend()\n",
        "\n",
        "#plt.plot(M.t/b2.ms, M.I_Kd[0]/b2.amp/b2.metre**2, label='I_Kd')\n",
        "#plt.plot(M.t/b2.ms, M.n[0], label='n')\n",
        "#plt.xlabel('Time (ms)')\n",
        "#plt.ylabel('Current (A/m^2)')\n",
        "#plt.legend()\n",
        "\n",
        "#plt.plot(M.t/b2.ms, M.I_M[0]/b2.amp/b2.metre**2, label='I_M')\n",
        "#plt.plot(M.t/b2.ms, M.p[0], label='p')\n",
        "#plt.plot(M.t/b2.ms, M.tau[0]/b2.second, label='tau')\n",
        "#plt.xlabel('Time (ms)')\n",
        "#plt.ylabel('Current (A/m^2)')\n",
        "#plt.legend()"
      ]
    }
  ],
  "metadata": {
    "colab": {
      "collapsed_sections": [],
      "provenance": []
    },
    "kernelspec": {
      "display_name": "Python 3.8.10 64-bit",
      "language": "python",
      "name": "python3"
    },
    "language_info": {
      "codemirror_mode": {
        "name": "ipython",
        "version": 3
      },
      "file_extension": ".py",
      "mimetype": "text/x-python",
      "name": "python",
      "nbconvert_exporter": "python",
      "pygments_lexer": "ipython3",
      "version": "3.8.10"
    },
    "vscode": {
      "interpreter": {
        "hash": "916dbcbb3f70747c44a77c7bcd40155683ae19c65e1c03b4aa3499c5328201f1"
      }
    }
  },
  "nbformat": 4,
  "nbformat_minor": 0
}
